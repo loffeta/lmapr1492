{
 "cells": [
  {
   "cell_type": "code",
   "execution_count": 11,
   "metadata": {},
   "outputs": [],
   "source": [
    "from pymatgen import MPRester\n",
    "mpr= MPRester(\"0GxLMrZ3A1RsWdHOh\")\n",
    "\n",
    "data= mpr.query(\"mp-1009129\",[\"cif\"])[0]\n",
    "flux= open(\"MgO_mp-1009129_symmetrized.cif\",\"w\")\n",
    "\n",
    "for key, value in data.items():\n",
    "    flux.write(str(value))\n",
    "    \n",
    "flux.close()"
   ]
  }
 ],
 "metadata": {
  "kernelspec": {
   "display_name": "Python 3",
   "language": "python",
   "name": "python3"
  },
  "language_info": {
   "codemirror_mode": {
    "name": "ipython",
    "version": 3
   },
   "file_extension": ".py",
   "mimetype": "text/x-python",
   "name": "python",
   "nbconvert_exporter": "python",
   "pygments_lexer": "ipython3",
   "version": "3.6.8"
  }
 },
 "nbformat": 4,
 "nbformat_minor": 2
}
