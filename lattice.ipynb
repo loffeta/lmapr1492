{
 "cells": [
  {
   "cell_type": "markdown",
   "metadata": {},
   "source": [
    "# Cristallographie: oxyde de magnésium"
   ]
  },
  {
   "cell_type": "code",
   "execution_count": 40,
   "metadata": {},
   "outputs": [],
   "source": [
    "#importation du matériau\n",
    "from pymatgen import MPRester\n",
    "import numpy as np #Pour faire les vérifications\n",
    "from pymatgen.symmetry.analyzer import SpacegroupAnalyzer \n",
    "\n",
    "with MPRester(\"0GxLMrZ3A1RsWdHOh\") as m:\n",
    "    structure = m.get_structure_by_material_id(\"mp-1009129\")\n",
    "SgA= SpacegroupAnalyzer(structure)#Création d'un objet pour l'analyse de la structure\n",
    "Lat=SgA.get_conventional_standard_structure() #Pour avoir la structure conventionnelle\n",
    "Lattice=Lat.lattice"
   ]
  },
  {
   "cell_type": "code",
   "execution_count": 41,
   "metadata": {},
   "outputs": [],
   "source": [
    "#Vecteurs du reseau direct\n",
    "a,b,c = Lattice.matrix[:]\n",
    "#Vecteurs du reseau reciproque\n",
    "RLat= Lattice.reciprocal_lattice\n",
    "RLat\n",
    "h,k,l= RLat.matrix[:]\n",
    "h,k,l\n",
    "#Verification vecteurs du reseau direct et reciproque\n",
    "import numpy as np\n",
    "ah=np.dot(a,h)\n",
    "bk=np.dot(b,k)\n",
    "cl=np.dot(c,l)\n",
    "#Type de maille\n",
    "Tdm=\"conventionnelle\" #Car demandé pour la structure\n",
    "#Système Cristalline\n",
    "SC=SgA.get_crystal_system()\n",
    "#Groupe Ponctuel\n",
    "GP= SgA.get_point_group_symbol()"
   ]
  },
  {
   "cell_type": "code",
   "execution_count": 42,
   "metadata": {},
   "outputs": [
    {
     "data": {
      "text/plain": [
       "Lattice\n",
       "    abc : 2.9385135137175356 2.9385135137175356 2.67989347\n",
       " angles : 90.0 90.0 120.00000000000001\n",
       " volume : 20.04026900088922\n",
       "      A : 1.4692567568587678 -2.5448273522432583 0.0\n",
       "      B : 1.4692567568587678 2.5448273522432583 0.0\n",
       "      C : 0.0 0.0 2.67989347"
      ]
     },
     "metadata": {},
     "output_type": "display_data"
    },
    {
     "name": "stdout",
     "output_type": "stream",
     "text": [
      "Les vecteurs de base pour le réseau direct sont:\n"
     ]
    },
    {
     "data": {
      "text/plain": [
       "array([ 1.46925676, -2.54482735,  0.        ])"
      ]
     },
     "metadata": {},
     "output_type": "display_data"
    },
    {
     "data": {
      "text/plain": [
       "array([1.46925676, 2.54482735, 0.        ])"
      ]
     },
     "metadata": {},
     "output_type": "display_data"
    },
    {
     "data": {
      "text/plain": [
       "array([0.        , 0.        , 2.67989347])"
      ]
     },
     "metadata": {},
     "output_type": "display_data"
    },
    {
     "name": "stdout",
     "output_type": "stream",
     "text": [
      "Les vecteurs de base pour le réseau réciproque sont:\n"
     ]
    },
    {
     "data": {
      "text/plain": [
       "array([ 2.13821896, -1.23450129,  0.        ])"
      ]
     },
     "metadata": {},
     "output_type": "display_data"
    },
    {
     "data": {
      "text/plain": [
       "array([2.13821896, 1.23450129, 0.        ])"
      ]
     },
     "metadata": {},
     "output_type": "display_data"
    },
    {
     "data": {
      "text/plain": [
       "array([0.        , 0.        , 2.34456533])"
      ]
     },
     "metadata": {},
     "output_type": "display_data"
    },
    {
     "name": "stdout",
     "output_type": "stream",
     "text": [
      "Pour vérifier que ces vecteurs sont corrects on peut multiplier les vecteurs du réseau direct par leur vecteur correspondant dans le réseau réciproque. On devrait obtenir 2pi.\n",
      "a * h =  6.283185307179586\n",
      "b * k =  6.283185307179586\n",
      "c * l =  6.283185307179585\n",
      "Le type de maille est : conventionnelle .\n",
      "Le système cristallin est : hexagonal . \n",
      "On peut le voir dans l'objet Lattice ci-dessus: a=b≠c ,  gamma=120° et beta=alpha=90°\n",
      "Le groupe ponctuel est : -6m2 .\n"
     ]
    }
   ],
   "source": [
    "#Cellule pour l'affichage\n",
    "display(Lattice)\n",
    "print(\"Les vecteurs de base pour le réseau direct sont:\")\n",
    "display(a,b,c)\n",
    "print(\"Les vecteurs de base pour le réseau réciproque sont:\")\n",
    "display(h,k,l)\n",
    "print(\"Pour vérifier que ces vecteurs sont corrects on peut multiplier les vecteurs du réseau direct par leur \"\n",
    "      \"vecteur correspondant dans le réseau réciproque. On devrait obtenir 2pi.\")\n",
    "print(\"a * h = \",ah)\n",
    "print(\"b * k = \",bk)\n",
    "print(\"c * l = \",cl)\n",
    "print(\"Le type de maille est :\",Tdm,\".\") \n",
    "print(\"Le système cristallin est :\",SC,\". \")\n",
    "print(\"On peut le voir dans l'objet Lattice ci-dessus: a=b≠c ,  gamma=120° et beta=alpha=90°\")\n",
    "print(\"Le groupe ponctuel est :\",GP,\".\")"
   ]
  },
  {
   "cell_type": "code",
   "execution_count": null,
   "metadata": {},
   "outputs": [],
   "source": []
  }
 ],
 "metadata": {
  "kernelspec": {
   "display_name": "Python 3",
   "language": "python",
   "name": "python3"
  },
  "language_info": {
   "codemirror_mode": {
    "name": "ipython",
    "version": 3
   },
   "file_extension": ".py",
   "mimetype": "text/x-python",
   "name": "python",
   "nbconvert_exporter": "python",
   "pygments_lexer": "ipython3",
   "version": "3.6.8"
  }
 },
 "nbformat": 4,
 "nbformat_minor": 2
}
