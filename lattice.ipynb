{
 "cells": [
  {
   "cell_type": "code",
   "execution_count": 107,
   "metadata": {},
   "outputs": [
    {
     "data": {
      "text/plain": [
       "Lattice\n",
       "    abc : 2.67989347 2.938513277414781 2.938532189392922\n",
       " angles : 120.00020225761145 90.0 90.0\n",
       " volume : 20.04035391084419\n",
       "      A : 0.0 0.0 -2.67989347\n",
       "      B : -1.46924742 -2.54483247 0.0\n",
       "      C : -1.46926633 2.54484339 0.0"
      ]
     },
     "execution_count": 107,
     "metadata": {},
     "output_type": "execute_result"
    }
   ],
   "source": [
    "from pymatgen import MPRester\n",
    "\n",
    "with MPRester(\"0GxLMrZ3A1RsWdHOh\") as m:\n",
    "    # Structure for material id\n",
    "    structure = m.get_structure_by_material_id(\"mp-1009129\")\n",
    "Lattice = structure.lattice \n",
    "Lattice"
   ]
  },
  {
   "cell_type": "code",
   "execution_count": 108,
   "metadata": {},
   "outputs": [
    {
     "data": {
      "text/plain": [
       "(array([ 0.        ,  0.        , -2.67989347]),\n",
       " array([-1.46924742, -2.54483247,  0.        ]),\n",
       " array([-1.46926633,  2.54484339,  0.        ]))"
      ]
     },
     "execution_count": 108,
     "metadata": {},
     "output_type": "execute_result"
    }
   ],
   "source": [
    "#Vecteurs du reseau direct\n",
    "a,b,c = Lattice.matrix[:]\n",
    "a,b,c"
   ]
  },
  {
   "cell_type": "code",
   "execution_count": 109,
   "metadata": {},
   "outputs": [
    {
     "data": {
      "text/plain": [
       "1.0"
      ]
     },
     "execution_count": 109,
     "metadata": {},
     "output_type": "execute_result"
    }
   ],
   "source": [
    "#Vecteurs du reseau reciproque\n",
    "RLat= Lattice.reciprocal_lattice\n",
    "RLat\n",
    "h,k,l= RLat.matrix[:]\n",
    "h,k,l\n",
    "#Verification vecteurs du reseau direct et reciproque\n",
    "import numpy as np\n",
    "np.dot(c,l)/(2*np.pi)\n",
    "#np.dot(a,k)\n",
    "#np.dot(a,l)"
   ]
  },
  {
   "cell_type": "code",
   "execution_count": 110,
   "metadata": {},
   "outputs": [],
   "source": [
    "from pymatgen.symmetry.analyzer import SpacegroupAnalyzer\n",
    "\n",
    "SgA= SpacegroupAnalyzer(structure)"
   ]
  },
  {
   "cell_type": "code",
   "execution_count": 111,
   "metadata": {},
   "outputs": [
    {
     "data": {
      "text/plain": [
       "'hexagonal'"
      ]
     },
     "execution_count": 111,
     "metadata": {},
     "output_type": "execute_result"
    }
   ],
   "source": [
    "#Type de maille\n",
    "Tdm=SgA.get_lattice_type()\n",
    "Tdm"
   ]
  },
  {
   "cell_type": "code",
   "execution_count": 112,
   "metadata": {},
   "outputs": [
    {
     "data": {
      "text/plain": [
       "'hexagonal'"
      ]
     },
     "execution_count": 112,
     "metadata": {},
     "output_type": "execute_result"
    }
   ],
   "source": [
    "#Structure Cristalline\n",
    "SC=SgA.get_crystal_system()\n",
    "SC"
   ]
  },
  {
   "cell_type": "code",
   "execution_count": 113,
   "metadata": {},
   "outputs": [
    {
     "data": {
      "text/plain": [
       "'-6m2'"
      ]
     },
     "execution_count": 113,
     "metadata": {},
     "output_type": "execute_result"
    }
   ],
   "source": [
    "#Groupe Ponctuel\n",
    "GP= SgA.get_point_group_symbol()\n",
    "GP"
   ]
  },
  {
   "cell_type": "code",
   "execution_count": null,
   "metadata": {},
   "outputs": [],
   "source": []
  }
 ],
 "metadata": {
  "kernelspec": {
   "display_name": "Python 3",
   "language": "python",
   "name": "python3"
  },
  "language_info": {
   "codemirror_mode": {
    "name": "ipython",
    "version": 3
   },
   "file_extension": ".py",
   "mimetype": "text/x-python",
   "name": "python",
   "nbconvert_exporter": "python",
   "pygments_lexer": "ipython3",
   "version": "3.6.8"
  }
 },
 "nbformat": 4,
 "nbformat_minor": 2
}
