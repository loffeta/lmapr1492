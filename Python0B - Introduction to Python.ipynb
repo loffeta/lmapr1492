{
 "cells": [
  {
   "cell_type": "markdown",
   "metadata": {},
   "source": [
    "<font size=5  color=#003366> **[LGBIO2020] - Bioinstrumentation <br><br> \n",
    "TP0 (Part B) - Python Good Practice and Applications to Signal Processing** </font> <br><br><br>\n",
    "\n",
    "<font size=5  color=#003366>\n",
    "Prof. A. Moureaux<br>\n",
    "Prof. M. Verleysen\n",
    "<br><br>\n",
    "Anne-Sophie Collin (anne-sophie.collin@uclouvain.be)<br> \n",
    "<div style=\"text-align: right\"> 2020-2021 </div>\n",
    "<br><br>\n",
    "</font>"
   ]
  },
  {
   "cell_type": "markdown",
   "metadata": {},
   "source": [
    "The objective of this first session is twofold. On the one hand, exercises 1 and 2 have will provide you some advice to write efficient python code. Even though you have already used Python, we strongly encourage you to work on these exercises. On the other hand, exercises 3 and 4 consist in usual signal processing applications. <br> <br>\n",
    "\n",
    "\n",
    "<font size=5 color=#009999> **1. Conditional Indexing ** </font> <br> <br>\n",
    "\n",
    "<font size=5 color=#009999> *1.1 Context * </font>\n",
    "\n",
    "It is possible to retrieve specific elements of a list or a numpy arrays by using simple indices. For example, \n",
    "\n",
    "   - <samp>array[5]</samp> selects the 6th element of the array;\n",
    "   - <samp>array[0:2]</samp> selects the first 3 elements;\n",
    "   - <samp>array[-1]</samp> selects the last element.\n",
    "   \n",
    "In this exercise, we will explore an other indexing method that is much more efficient. <br><br>\n",
    "\n",
    "<font size=5 color=#009999> *1.2 Fancy indexing on a vector * </font>\n",
    "\n",
    "First, a boolean array can be created by applying a condition over all elements of an array. \n",
    "For example, <samp>bool_array  = array > 0</samp> will create a boolean array \n",
    "\n",
    "- of the same size of <samp>array</samp>;\n",
    "- in which an index is <samp>True</samp> if the value in <samp>array</samp> is greater than zero. \n",
    "\n",
    "This boolean array can then be used to index values of an array depending on the boolean value of the corresponding index in  <samp>bool_array</samp> (e.g. <samp>array\\[bool_array\\]</samp>). <br>\n",
    "\n",
    "For this exercise: \n",
    "<ol>\n",
    "   <li> Generate a numpy array (called <samp>randomVec</samp>) of size 100 with random integer values between -20 and 20;\n",
    "   <li> Generate a numpy array (called <samp>booleanVec</samp>) of size 100 in which <samp>booleanVec[i]</samp> is <samp>True</samp> iff <samp>randomVec[i]</samp> is greater than 0.<font color=#cc3300> Do not use any for loop! </font> \n",
    "   <li> Use <samp>booleanVec</samp> to compute the mean of the strictly positive values in <samp>randomVec</samp> <font color=#cc3300>. Again, do it without using any for loop! </font>\n",
    "   <li> Compute and display the mean of values that are strictly positive and odd.\n",
    "</ol>       \n",
    "\n"
   ]
  },
  {
   "cell_type": "code",
   "execution_count": 1,
   "metadata": {},
   "outputs": [],
   "source": [
    "import numpy as np \n",
    "import matplotlib.pyplot as plt\n",
    "\n",
    "#To be filled"
   ]
  },
  {
   "cell_type": "markdown",
   "metadata": {},
   "source": [
    "<font size=5 color=#009999> *1.3 Execution time comparison * </font>\n",
    "\n",
    "Repeat the previous questions with an intial random numpy array of size 5000x5000 (still with random integer values between -20 and 20). Compare the execution time of question 4 with an implementation that uses for loops."
   ]
  },
  {
   "cell_type": "code",
   "execution_count": 2,
   "metadata": {},
   "outputs": [],
   "source": [
    "import time\n",
    "\n",
    "#To be filled"
   ]
  },
  {
   "cell_type": "markdown",
   "metadata": {},
   "source": [
    "<font size=5 color=#009999> **2. Variable Mutability ** </font> <br> <br>\n",
    "\n",
    "<font size=5 color=#009999> *2.1 Context * </font>\n",
    "\n",
    "Everything in Python is an object. And what every newcomer to Python should quickly learn is that all objects in Python can be either mutable or immutable: <br>\n",
    "\n",
    "- Objects of built-in types like lists, sets or dictionaries are mutable (i.e. the object can be changed after it is created);  <br> \n",
    "- Objects of built-in types like int, float, bool, str or tuple are immutable (the object cannot be changed). <br> \n",
    "\n",
    "This property of python variables is crucial when they are given as argument to a function. In python, arguments are \"passed by reference\" instead of \"passed by value\". It means that the pointer to the variable is passed to the function and not a copy of the variable. Any change that is performed inside a function will affect the value of the variable in your whole script! <br>\n",
    "\n",
    "Believe us, if you do not pay attention to that, you will hate your code for returning strange results ;)<br><br>\n",
    "\n",
    "<font size=5 color=#009999> *2.1 Add and average function * </font>"
   ]
  },
  {
   "cell_type": "markdown",
   "metadata": {},
   "source": [
    "The function <samp>add_and_average</samp> is provided in the cell below. This function adds a given increment value to every item in a sequence and then computes the mean of it. "
   ]
  },
  {
   "cell_type": "code",
   "execution_count": 2,
   "metadata": {},
   "outputs": [],
   "source": [
    "import copy \n",
    "\n",
    "def add_and_average(sequence, increment=0): \n",
    "    nb_items = 0\n",
    "    for item in sequence: \n",
    "        sequence[nb_items] += increment\n",
    "        nb_items    += 1 \n",
    "    return sum(sequence)/nb_items"
   ]
  },
  {
   "cell_type": "markdown",
   "metadata": {},
   "source": [
    "For this exercise: \n",
    "<ol>\n",
    "<li> Apply <samp>add_and_average</samp> on (a) a list, (b) a numpy array. \n",
    "<li> Check whether the list/array is modified after calling the function. If it is the case, modify the function to solve the problem (hint: using the library 'copy' is a good choice). \n",
    "</ol> "
   ]
  },
  {
   "cell_type": "code",
   "execution_count": null,
   "metadata": {},
   "outputs": [],
   "source": [
    "import copy  \n",
    "\n",
    "#To be filled"
   ]
  },
  {
   "cell_type": "markdown",
   "metadata": {},
   "source": [
    "<font size=5 color=#009999> **3. Discrete Fourier Transform ** </font> <br> \n",
    "\n",
    "<font size=5 color=#009999> *3.1 Recovering Heart beat from ECG * </font> <br> \n",
    "\n",
    "An Electrocardiogram (ECG) is a recording of the electrical activity of the heart. This signal is recorded during a nonivasive procedure where electrodes are placed on the chest. By computing the Fourier transform of an ECG, the hearbeat of a patient can be recovered. \n",
    "\n",
    "For this exercise, \n",
    "<ol>\n",
    "   <li> Import the ECG signals of (a) a healthy patient (ECG_Normal.csv - with a sampling frequency of 500 Hz), (b) a patient with arrythmia (ECG_Arrhythmia.csv - with a sampling frequency of 360 Hz). Arrhythmia is a disease implying an irregular heartbeat pattern. We strongly suggest you to use the <samp>read_csv</samp> function from the pandas library;\n",
    "     \n",
    "   <li> Plot the signal in the time domain and in the frequency domain (by computing a Fourier transform). We suggest you to use the <samp>fft</samp> function from the <samp>numpy.ftt</samp> library. Compare the Fourier transforms of both signals. Are they similar?\n",
    "   <li> By recovering the frequency of highest amplitude, deduce the value of the heartbeat frequency (Hz) and the number of beats per minute for each patient.  \n",
    "</ol>\n"
   ]
  },
  {
   "cell_type": "code",
   "execution_count": null,
   "metadata": {
    "scrolled": false
   },
   "outputs": [],
   "source": []
  },
  {
   "cell_type": "markdown",
   "metadata": {},
   "source": [
    "<font size=5 color=#009999> **3. Filtering with the Convolution Operator ** </font> <br> \n",
    "\n",
    "Filtering in the time domain is performed using a convolution operation. Convolution employs a convolution filter, which is an array of N values. A convolution filter can also be referred to as a convolution mask, an impulse response (IR), or a convolution kernel. \n",
    "\n",
    "We here introduce several examples of Finite Impulse Response (FIR) filters. These are FIR because the number of elements in the impulse response is finite. \n",
    "\n",
    "<font size=5 color=#009999> *3.1 Mean Filter or Moving Average Filter * </font> <br> \n",
    "\n",
    "The mean filter performs the arithmetic mean of M consecutive samples of the input signal. For example, the kernel with M=3 is \n",
    "\n",
    "$$ h_{Mean} = \\left( \\frac13, \\frac13, \\frac13 \\right) $$\n",
    "\n",
    "The mean filter is a low pass filter which attenuates higher frequencies. \n",
    "\n",
    "<font size=5 color=#009999> *3.2 Derivative Filter * </font> <br> \n",
    "\n",
    "The derivation of a numerical signal relies on the Taylor expansion: \n",
    "\n",
    "$$ f(t \\pm \\epsilon) = f'(t) \\pm \\epsilon f'(t) + \\mathcal{O}(\\epsilon^2)$$\n",
    "\n",
    "$$ f'(t)  \\approx \\frac{f(t + \\epsilon) - f(t)}{\\epsilon} $$\n",
    "\n",
    "Written as numerical formula, it is expressed as :\n",
    "\n",
    "$$ Y_n = \\frac{X_n - X_{n-1}}{T_e} $$ \n",
    "\n",
    "where $T_e$ is the sampling frequency. This evalution of the derivative of a signal is called the *backward finite difference*. The corresponding impulse response is in that case:\n",
    "\n",
    "$$ h_{Derivative} = (-1,1) $$\n",
    "\n",
    "From the initial Taylor expansion, we can also derive a similar formula: \n",
    "\n",
    "$$ f'(t)  \\approx \\frac{f(t+\\epsilon) - f(t-\\epsilon)}{2 \\epsilon}  $$\n",
    "\n",
    "This gives the following finite difference called *centered finite difference*: \n",
    "\n",
    "$$ Y_n = \\frac{X_n - X_{n-2}}{2T_e} $$ \n",
    "\n",
    "The associated impulse response is given by: \n",
    "\n",
    "$$ h_{CenteredDerivative} = (-1,0,1) $$\n",
    "\n",
    "<font size=5 color=#009999> *3.3 Exercise * </font> <br> \n",
    "\n",
    "Follow the questions listed below and interpret your results after each step.\n",
    "<ol>\n",
    "   <li> Generate a signal by the addition of a 0.5 Hz sine wave at amplitude 2 and a 6 Hz sine wave at amplitude 0.4. Plot the Fourier transform of this signal; \n",
    "   <li> Apply a mean filter on this signal with the help of the convolution operator. Plot the Fourier transform of the filtered signal;\n",
    "    <li> Apply a centered finite difference derivative filter on this signal with the help of the convolution operator. Plot the Fourier transform of the filtered signal.\n",
    "</ol>"
   ]
  },
  {
   "cell_type": "code",
   "execution_count": null,
   "metadata": {},
   "outputs": [],
   "source": []
  }
 ],
 "metadata": {
  "kernelspec": {
   "display_name": "Python 3",
   "language": "python",
   "name": "python3"
  },
  "language_info": {
   "codemirror_mode": {
    "name": "ipython",
    "version": 3
   },
   "file_extension": ".py",
   "mimetype": "text/x-python",
   "name": "python",
   "nbconvert_exporter": "python",
   "pygments_lexer": "ipython3",
   "version": "3.6.8"
  }
 },
 "nbformat": 4,
 "nbformat_minor": 2
}
