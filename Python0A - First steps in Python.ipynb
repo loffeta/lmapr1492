{
 "cells": [
  {
   "cell_type": "markdown",
   "metadata": {},
   "source": [
    "<font size=5  color=#003366> **[LGBIO2020] - Bioinstrumentation <br><br> \n",
    "TP0 (Part A) - First Steps in Python** </font> <br><br><br>\n",
    "\n",
    "<font size=5  color=#003366>\n",
    "Prof. A. Moureaux<br>\n",
    "Prof. M. Verleysen\n",
    "<br><br>\n",
    "Anne-Sophie Collin (anne-sophie.collin@uclouvain.be)<br> \n",
    "<div style=\"text-align: right\"> 2020-2021 </div>\n",
    "<br><br>\n",
    "</font>"
   ]
  },
  {
   "cell_type": "markdown",
   "metadata": {},
   "source": [
    "<font size=5 color=#009999> **1. Python Language Introduction ** </font>\n",
    "\n",
    "Python is a high level programming language created by Guido van Rossum (Dutch programmer), and released in 1991. \n",
    "\n",
    "**Python 3 vs Python 2**<br>\n",
    "Two versions of the language exist: Python 2 and Python 3. Python 2.0 was released in 2000, and the 2.x versions were the prevalent releases until December 2008. At that time, the development team made the decision to release version 3.0, which contained a few relatively small but significant changes that were not backward compatible with the 2.x versions. Both Python 2 and 3 have continued to be maintained and developed, with periodic release updates for both. However, an official End Of Life date of January 1, 2020 has been established for Python 2, after which time it will no longer be maintained. We then strongly recomand you to use Python 3 version!\n",
    "\n",
    "**Python is interpreted**<br>\n",
    "In comparison with many other languages, Python is interpreted and not compiled. While other langages need to be compiled in order to translate the code into machine code, the language of your computer’s processor, Python is passed straight to an interpreter that runs it directly.<br>\n",
    "\n",
    "This makes for a quicker development cycle because you just type in your code and run it, without the intermediate compilation step.\n",
    "\n",
    "**Python is Open Source**<br>\n",
    "Then, the whole community can contribute to its development.\n",
    "\n",
    "**Python is easy to learn and use**<br>\n",
    "The number of features in the language itself is modest, requiring relatively little investment of time or effort to produce your first programs. The Python syntax is designed to be readable and straightforward. \n",
    "\n",
    "**Python is Object-Oriented**<br>\n",
    "Object-Oriented Programming (OOP) is a powerful programming paradigm that reduces the complexity of systems as is employs heavy re-usability of code. OOP leverages the concept of objects and classes. Objects may contain data (known as attributes, stored as instance or class variables) as well as procedures (defined as methods). Objects are generated from blueprints known as classes, which specify the attributes and methods to be generated at the time of object instantiation. \n"
   ]
  },
  {
   "cell_type": "markdown",
   "metadata": {},
   "source": [
    "<font size=5 color=#009999> *1.1. Python IDE (Integrated Development Environment) * </font>\n",
    "\n",
    "Python can be executed via the command line (by calling python <program\\>.py). However, using the Python Shell for writing down Python code is not scalable to big projects. Therefore, you will need  to use an IDE (Integrated Development Environment) or a dedicated code editor. As Python is one of the leading programming languages, there is a multitude of IDEs available.\n",
    "\n",
    "In this course, we will use Jupyter Notebook. Born out of IPython in 2014, Jupyter Notebook is a web application based on the server-client structure. It allows you to create as well as manipulate documents called notebooks. A notebook is a file composed of cells which can be executed seperately (ctrl+enter or shift+enter to also go to the next one) but that share a same memory system. This means that variables initialized in a certain cell can be accessed from any other cell as long as the former is executed before the latter. Try executing the 2 following cells:"
   ]
  },
  {
   "cell_type": "code",
   "execution_count": 1,
   "metadata": {},
   "outputs": [],
   "source": [
    "a = 5"
   ]
  },
  {
   "cell_type": "code",
   "execution_count": 2,
   "metadata": {},
   "outputs": [
    {
     "name": "stdout",
     "output_type": "stream",
     "text": [
      "5\n"
     ]
    }
   ],
   "source": [
    "print(a)"
   ]
  },
  {
   "cell_type": "markdown",
   "metadata": {},
   "source": [
    "Notebooks show a sequential structure (each cell is executed after the previous one). They allow to display the results of computation using rich media representations, such as HTML, LaTeX, PNG, SVG. They are very usefull to communicate results. \n",
    "\n",
    "However, for really big projects, the use of an IDE that offers code completion or code insight by highlighting, resource management, debugging tools will be helpuf. Visual Studio Code, PyCharm or Spyder are some of them."
   ]
  },
  {
   "cell_type": "markdown",
   "metadata": {},
   "source": [
    "<font size=5 color=#009999> **2. Packages ** </font>\n",
    "\n",
    "We strongly recommend installing Miniconda. There are installers for the 3 main Operating Systems (Linux, Windows & MacOS) https://docs.conda.io/en/latest/miniconda.html. To use the full 'power' of python you'll need a package manager to download and install all the necessary. The default one is pip, but you can also use conda (mixing both is a bad idea!).\n",
    "\n",
    "Once you've installed miniconda, open a terminal and install the following packages:\n",
    "scikit-learn, numpy, pandas, matplotlib by doing:\n",
    "\n",
    "pip install <packages\\> or conda install <packages\\>"
   ]
  },
  {
   "cell_type": "markdown",
   "metadata": {},
   "source": [
    "<font size=5 color=#009999> **3. Syntax ** </font> <br>\n",
    "\n",
    "The python language syntax decided to do away with curly brackets and decided on seperating code-blocks by line indentations. The colon (:) indicates the start of such a new indentation"
   ]
  },
  {
   "cell_type": "code",
   "execution_count": null,
   "metadata": {},
   "outputs": [],
   "source": [
    "a = 5\n",
    "if a == 5:\n",
    "  print(\"a is equal to 5\")\n",
    "else:\n",
    "  print(\"Sadly a is not a beautiful 5 anymore :'(\")"
   ]
  },
  {
   "cell_type": "markdown",
   "metadata": {},
   "source": [
    "<font size=5 color=#009999> **4. Data Types ** </font> <br><br>\n",
    "\n",
    "\n",
    "<font size=5 color=#009999> *4.1. Numeric * </font>\n",
    "\n",
    " Numeric values can be interger (*int*), floating number (*float*) or even complex numbers (*complex*). "
   ]
  },
  {
   "cell_type": "code",
   "execution_count": null,
   "metadata": {},
   "outputs": [],
   "source": [
    "a = 5\n",
    "print(\"Type of a: \", type(a)) \n",
    "  \n",
    "b = 5.0\n",
    "print(\"Type of b: \", type(b)) \n",
    "  \n",
    "c = 2 + 4j\n",
    "print(\"Type of c: \", type(c)) "
   ]
  },
  {
   "cell_type": "markdown",
   "metadata": {},
   "source": [
    "<font size=5 color=#009999> *4.2. Boolean * </font>\n",
    "\n",
    "Data type with one of the two built-in values, *True* or *False*.\n"
   ]
  },
  {
   "cell_type": "markdown",
   "metadata": {},
   "source": [
    "<font size=5 color=#009999> *4.3. Sequence Type * </font>\n",
    "\n",
    "In Python, sequence is the ordered collection of similar or different data types. Sequences allows to store multiple values in an organized and efficient fashion. There are several sequence types in Python:\n",
    "\n",
    "   - String : arrays of bytes representing Unicode characters.\n",
    "   - List and tuple: arrays as in other language but they do not need to be homogeneous. They may contain DataTypes like Integers, Strings, as well as Objects.\n",
    "    \n",
    "These three types support the use of the slicing operator \\[  \\] to extract an item or a range of items from a sequence. Index starts form 0 in Python!\n",
    "The main difference between lists and tuples is that lists are mutable, meaning, value of elements of a list can be altered."
   ]
  },
  {
   "cell_type": "code",
   "execution_count": null,
   "metadata": {},
   "outputs": [],
   "source": [
    "# Creation of a string \n",
    "myString = \"An example for LELEC2900 practical session\"\n",
    "print(\"An example of a String: \", myString, \"\\n\") \n",
    "\n",
    "# Creation of a list \n",
    "myList = [\"An\", \"example\", \"for\", \"LELEC2900\", \"practical\", \"session\"]\n",
    "print(\"An example of a List: \", myList) \n",
    "myList[3] = \"LELEC2800\"\n",
    "print(\"Lists are mutable: \", myList, \"\\n\") \n",
    "\n",
    "#Creation of a tuple \n",
    "myTuple = (\"An\", \"example\", \"for\", \"LELEC2900\", \"practical\", \"session\")\n",
    "print(\"An example of a Tuple: \", myTuple) \n",
    "try:\n",
    "    myTuple[3] = \"LELEC2800\" \n",
    "    print(\"Tuples are not mutable: \", myTuple, \"\\n\") \n",
    "except Exception as e:\n",
    "    print('The system raised the following error:', e)\n"
   ]
  },
  {
   "cell_type": "markdown",
   "metadata": {},
   "source": [
    "<font size=5 color=#009999> *4.4. Set * </font>\n",
    "\n",
    "A set is an unordered collection of data types that is iterable, mutable and has no duplicate elements. The order of elements in a set is undefined though it may consist of various elements. The major advantage of using a set, as opposed to a list, is that it has a highly optimized method for checking whether a specific element is contained in the set.<br>\n",
    "Since sets are unordered collections, indexing has no meaning. Hence the slicing operator \\[ \\] does not work."
   ]
  },
  {
   "cell_type": "code",
   "execution_count": null,
   "metadata": {},
   "outputs": [],
   "source": [
    "# Creation of a set \n",
    "mySet = {\"An\", 8, \"example\", \"for\", True, \"LELEC2900\", \"practical\", \"session\"}\n",
    "print(\"An example of a Set: \", mySet) "
   ]
  },
  {
   "cell_type": "markdown",
   "metadata": {},
   "source": [
    "<font size=5 color=#009999> *4.5. Dictionary * </font>\n",
    "\n",
    "Dictionary is an unordered collection of key-value pairs. It is generally used when we have a huge amount of data. Dictionaries are optimized for retrieving data. We must know the key to retrieve the value."
   ]
  },
  {
   "cell_type": "code",
   "execution_count": null,
   "metadata": {},
   "outputs": [],
   "source": [
    "# Creation of a dictionnary\n",
    "myDict = {1:\"An\", 2:\"example\", 3:\"for\", 'key':\"LELEC2900\", 'keybis':\"practical\", 'keyter':\"session\"}\n",
    "print(\"An example of a Dictionnary: \", myDict) "
   ]
  },
  {
   "cell_type": "markdown",
   "metadata": {},
   "source": [
    "<font size=5 color=#009999> **5. Numpy Arrays ** </font> <br>\n",
    "\n",
    "Python doesn't have a built-in type for matrices. But, we can treat list of a list as a matrix( A = \\[[1, 4, 5\\],\\[-5, 8, 9\\]]). Using nested lists as a matrix works for simple computational tasks, however, there is a better way of working with matrices in Python using NumPy package.\n",
    "\n",
    "NumPy is a Python library that is the core library for scientific computing in Python. It contains a collection of tools and techniques that can be used to solve on a computer mathematical models of problems in Science and Engineering. One of these tools is a high-performance multidimensional array object that is a powerful data structure for efficient computation of arrays and matrices.\n",
    "\n",
    "Since lists can be multidimensional, we can ask what is the benefit of using numpy arrays over lists. The key difference between an array and a list is, arrays are designed to handle vectorized operations while a python list is not. That means, if you apply a function it is performed on every item in the array, rather than on the whole array object.\n",
    "\n",
    "Let’s suppose you want to add the number 2 to every item in the list. The intuitive way to do it is something like this:"
   ]
  },
  {
   "cell_type": "code",
   "execution_count": null,
   "metadata": {},
   "outputs": [],
   "source": [
    "import numpy as np\n",
    "list2d  = [[1,2,3], [4,5,6]]\n",
    "array2d = np.array([[1,2,3], [4,5,6]])\n",
    "print(\"Original list: \", list2d)\n",
    "print(\"Original array: \", array2d, \"\\n\")\n",
    "\n",
    "try: \n",
    "    list2d  = list2d + 2\n",
    "except Exception as e:\n",
    "    print('The system raised the following error:', e, \"\\n\")\n",
    "array2d = array2d + 2\n",
    "\n",
    "print(\"Modified list: \", list2d)\n",
    "print(\"Modified array: \", array2d)\n"
   ]
  },
  {
   "cell_type": "markdown",
   "metadata": {},
   "source": [
    "Another huge difference between list and arrays is the meaning of the \"+\" operator. Between lists, the \"+\" operator performs the concatenation while between arrays, it performs the element-wise addition. "
   ]
  },
  {
   "cell_type": "code",
   "execution_count": null,
   "metadata": {},
   "outputs": [],
   "source": [
    "import numpy as np\n",
    "list1, list2   = [1,2,3], [4,5,6]\n",
    "array1, array2 = np.array([1,2,3]), np.array([4,5,6])\n",
    "\n",
    "print(\"list1 + list2 \", list1 + list2)\n",
    "print(\"array1 + array2 \", array1 + array2 )"
   ]
  },
  {
   "cell_type": "markdown",
   "metadata": {},
   "source": [
    "<font size=5 color=#009999> **5. For loops and Iterators ** </font> <br>\n",
    "\n",
    "Python strings, lists, tuples are ordered sequences which support indexing, i.e. we can access to any index of the sequence. If we want to iterate over all elements of the sequence, we can do it like this:"
   ]
  },
  {
   "cell_type": "code",
   "execution_count": null,
   "metadata": {},
   "outputs": [],
   "source": [
    "listLength = len(myList)\n",
    "for i in range(listLength): \n",
    "    print(\"The \", str(i), \"th element of the sequence is : \", myList[i])"
   ]
  },
  {
   "cell_type": "markdown",
   "metadata": {},
   "source": [
    "Howewever, there are also iterators. An iterator is any python type that can be used with a 'for in loop'. Python lists, tuples, dicts and sets are all examples of inbuilt iterators. Numpy arrays also support iteration operations. We can then access to the elements in another way:"
   ]
  },
  {
   "cell_type": "code",
   "execution_count": null,
   "metadata": {},
   "outputs": [],
   "source": [
    "for this_element in myList: \n",
    "    print(\"The element of the sequence is : \", this_element)\n",
    "\n",
    "print(\"\\n\")\n",
    "# We can use a call to enumerate to know the indexes\n",
    "for idx, this_element in enumerate(myList): \n",
    "    print(\"The \", str(idx), \"th element of the sequence is : \", this_element)"
   ]
  },
  {
   "cell_type": "markdown",
   "metadata": {},
   "source": [
    "<font size=5 color=#009999> **6. Functions ans classes** </font> <br>\n",
    "\n",
    "Python supports both functional programming and object oriented programming with inheritance (like in Java).\n",
    "\n",
    "As was already stated, python is dynamically typed, so during function definition you don't need to specify an argument's type. You can however give it a default value."
   ]
  },
  {
   "cell_type": "code",
   "execution_count": null,
   "metadata": {},
   "outputs": [],
   "source": [
    "# Example of function definition\n",
    "def line(x, alpha=1, c=0):\n",
    "  \"\"\" \n",
    "  Returns the y-value of the line with coefficients:\n",
    "      - alpha (steepness) \n",
    "      - c (offset)\n",
    "      at point x \n",
    "  \"\"\"\n",
    "  return alpha*x + c\n",
    "\n",
    "# OK\n",
    "print(line(5))\n",
    "print(line(5, 2, 1))\n",
    "print(line(5, c=1, alpha=2)) # If you name the arguments, order is not important\n",
    "print(line(x=5, c=1, alpha=2))\n",
    "\n",
    "# Not ideal\n",
    "print(line(c=1, alpha=2, x=5)) # But moving the arguments without defaults like \n",
    "                               # this, is not really good practice"
   ]
  },
  {
   "cell_type": "code",
   "execution_count": null,
   "metadata": {},
   "outputs": [],
   "source": [
    "# Example of a class definition\n",
    "class Line():\n",
    "  def __init__(self, alpha=1, c=0): # This is the object's constructor\n",
    "    \"\"\" Creates the Line objectwith coefficients:\n",
    "      - alpha (steepness) \n",
    "      - c (offset)\n",
    "    \"\"\"\n",
    "    self.alpha = alpha\n",
    "    self.c = c\n",
    "\n",
    "  def get_y(self, x):\n",
    "    \"\"\" Returns the value of the line at point x\n",
    "    \"\"\"\n",
    "    return self.alpha*x + self.c\n",
    "\n",
    "simple_line = Line(alpha=2, c=1)\n",
    "print(simple_line.get_y(5))"
   ]
  }
 ],
 "metadata": {
  "kernelspec": {
   "display_name": "Python 3",
   "language": "python",
   "name": "python3"
  },
  "language_info": {
   "codemirror_mode": {
    "name": "ipython",
    "version": 3
   },
   "file_extension": ".py",
   "mimetype": "text/x-python",
   "name": "python",
   "nbconvert_exporter": "python",
   "pygments_lexer": "ipython3",
   "version": "3.6.8"
  }
 },
 "nbformat": 4,
 "nbformat_minor": 2
}
